{
 "cells": [
  {
   "cell_type": "code",
   "execution_count": 1,
   "metadata": {},
   "outputs": [
    {
     "name": "stderr",
     "output_type": "stream",
     "text": [
      "C:\\ProgramData\\Anaconda3\\lib\\site-packages\\h5py\\__init__.py:34: FutureWarning: Conversion of the second argument of issubdtype from `float` to `np.floating` is deprecated. In future, it will be treated as `np.float64 == np.dtype(float).type`.\n",
      "  from ._conv import register_converters as _register_converters\n",
      "Using TensorFlow backend.\n"
     ]
    }
   ],
   "source": [
    "import numpy as np\n",
    "import matplotlib.pyplot as plt\n",
    "import pandas as pd\n",
    "import math\n",
    "from keras.models import Sequential\n",
    "from keras.layers import Dense\n",
    "from keras.layers import LSTM\n",
    "from sklearn.preprocessing import MinMaxScaler\n",
    "from sklearn.metrics import mean_squared_error"
   ]
  },
  {
   "cell_type": "code",
   "execution_count": 2,
   "metadata": {
    "collapsed": true
   },
   "outputs": [],
   "source": [
    "# fix random seed for reproducibility\n",
    "np.random.seed(7)"
   ]
  },
  {
   "cell_type": "code",
   "execution_count": 13,
   "metadata": {
    "collapsed": true
   },
   "outputs": [],
   "source": [
    "def gen_series(N):\n",
    "    for i in range(1000,N+1000):\n",
    "        #Enter your own series formula here\n",
    "        x = i*i + i\n",
    "        yield x  "
   ]
  },
  {
   "cell_type": "code",
   "execution_count": 23,
   "metadata": {
    "collapsed": true
   },
   "outputs": [],
   "source": [
    "series = gen_series(1000)\n",
    "df = pd.DataFrame(series)\n",
    "dataset = df.values\n",
    "dataset = df.astype('float32')"
   ]
  },
  {
   "cell_type": "code",
   "execution_count": 24,
   "metadata": {
    "collapsed": true
   },
   "outputs": [],
   "source": [
    "# normalize the dataset\n",
    "scaler = MinMaxScaler(feature_range=(0, 1))\n",
    "dataset_normalized = scaler.fit_transform(dataset)"
   ]
  },
  {
   "cell_type": "code",
   "execution_count": 25,
   "metadata": {},
   "outputs": [
    {
     "name": "stdout",
     "output_type": "stream",
     "text": [
      "670 330\n"
     ]
    }
   ],
   "source": [
    "# split into train and test sets\n",
    "train_size = int(len(dataset_normalized) * 0.67)\n",
    "test_size = len(dataset_normalized) - train_size\n",
    "train, test = dataset_normalized[0:train_size,:], dataset_normalized[train_size:len(dataset_normalized),:]\n",
    "print(len(train), len(test))"
   ]
  },
  {
   "cell_type": "code",
   "execution_count": 26,
   "metadata": {
    "collapsed": true
   },
   "outputs": [],
   "source": [
    "# convert an array of values into a dataset matrix\n",
    "def create_dataset(dataset, look_back=1):\n",
    "    dataX, dataY = [], []\n",
    "    for i in range(len(dataset)-look_back-1):\n",
    "        a = dataset[i:(i+look_back), 0]\n",
    "        dataX.append(a)\n",
    "        dataY.append(dataset[i + look_back, 0])\n",
    "    return np.array(dataX), np.array(dataY)"
   ]
  },
  {
   "cell_type": "code",
   "execution_count": 27,
   "metadata": {
    "collapsed": true
   },
   "outputs": [],
   "source": [
    "# reshape into X=t and Y=t+1\n",
    "look_back = 5\n",
    "trainX, trainY = create_dataset(train, look_back)\n",
    "testX, testY = create_dataset(test, look_back)"
   ]
  },
  {
   "cell_type": "code",
   "execution_count": 28,
   "metadata": {
    "collapsed": true
   },
   "outputs": [],
   "source": [
    "# reshape input to be [samples, time steps, features]\n",
    "trainX = np.reshape(trainX, (trainX.shape[0], 1, trainX.shape[1]))\n",
    "testX = np.reshape(testX, (testX.shape[0], 1, testX.shape[1]))"
   ]
  },
  {
   "cell_type": "code",
   "execution_count": 29,
   "metadata": {},
   "outputs": [
    {
     "name": "stdout",
     "output_type": "stream",
     "text": [
      "Epoch 1/100\n",
      " - 1s - loss: 0.0062\n",
      "Epoch 2/100\n",
      " - 1s - loss: 1.5528e-04\n",
      "Epoch 3/100\n",
      " - 1s - loss: 9.0782e-05\n",
      "Epoch 4/100\n",
      " - 1s - loss: 4.3489e-05\n",
      "Epoch 5/100\n",
      " - 1s - loss: 1.5390e-05\n",
      "Epoch 6/100\n",
      " - 1s - loss: 6.4642e-06\n",
      "Epoch 7/100\n",
      " - 1s - loss: 5.5377e-06\n",
      "Epoch 8/100\n",
      " - 1s - loss: 5.8263e-06\n",
      "Epoch 9/100\n",
      " - 1s - loss: 5.5216e-06\n",
      "Epoch 10/100\n",
      " - 1s - loss: 5.9098e-06\n",
      "Epoch 11/100\n",
      " - 1s - loss: 6.1957e-06\n",
      "Epoch 12/100\n",
      " - 1s - loss: 5.4138e-06\n",
      "Epoch 13/100\n",
      " - 1s - loss: 5.3518e-06\n",
      "Epoch 14/100\n",
      " - 1s - loss: 4.0609e-06\n",
      "Epoch 15/100\n",
      " - 1s - loss: 3.4378e-06\n",
      "Epoch 16/100\n",
      " - 1s - loss: 2.6344e-06\n",
      "Epoch 17/100\n",
      " - 1s - loss: 1.6031e-06\n",
      "Epoch 18/100\n",
      " - 1s - loss: 1.1377e-06\n",
      "Epoch 19/100\n",
      " - 1s - loss: 1.1084e-06\n",
      "Epoch 20/100\n",
      " - 1s - loss: 5.8988e-07\n",
      "Epoch 21/100\n",
      " - 1s - loss: 4.6989e-07\n",
      "Epoch 22/100\n",
      " - 1s - loss: 6.3847e-07\n",
      "Epoch 23/100\n",
      " - 1s - loss: 9.5875e-07\n",
      "Epoch 24/100\n",
      " - 1s - loss: 2.8516e-06\n",
      "Epoch 25/100\n",
      " - 1s - loss: 1.0238e-07\n",
      "Epoch 26/100\n",
      " - 1s - loss: 8.2033e-07\n",
      "Epoch 27/100\n",
      " - 1s - loss: 8.0490e-07\n",
      "Epoch 28/100\n",
      " - 1s - loss: 9.0540e-07\n",
      "Epoch 29/100\n",
      " - 1s - loss: 2.7093e-07\n",
      "Epoch 30/100\n",
      " - 1s - loss: 1.3109e-06\n",
      "Epoch 31/100\n",
      " - 1s - loss: 2.8307e-07\n",
      "Epoch 32/100\n",
      " - 1s - loss: 2.6731e-06\n",
      "Epoch 33/100\n",
      " - 1s - loss: 8.7558e-08\n",
      "Epoch 34/100\n",
      " - 1s - loss: 6.2454e-07\n",
      "Epoch 35/100\n",
      " - 1s - loss: 1.6998e-07\n",
      "Epoch 36/100\n",
      " - 1s - loss: 4.9196e-07\n",
      "Epoch 37/100\n",
      " - 1s - loss: 3.6753e-06\n",
      "Epoch 38/100\n",
      " - 1s - loss: 1.6948e-07\n",
      "Epoch 39/100\n",
      " - 1s - loss: 4.9245e-07\n",
      "Epoch 40/100\n",
      " - 1s - loss: 2.4693e-07\n",
      "Epoch 41/100\n",
      " - 1s - loss: 3.1827e-07\n",
      "Epoch 42/100\n",
      " - 1s - loss: 5.1809e-07\n",
      "Epoch 43/100\n",
      " - 1s - loss: 1.9045e-06\n",
      "Epoch 44/100\n",
      " - 1s - loss: 1.8613e-07\n",
      "Epoch 45/100\n",
      " - 1s - loss: 5.5937e-07\n",
      "Epoch 46/100\n",
      " - 1s - loss: 8.9732e-07\n",
      "Epoch 47/100\n",
      " - 1s - loss: 7.0275e-07\n",
      "Epoch 48/100\n",
      " - 1s - loss: 2.4087e-07\n",
      "Epoch 49/100\n",
      " - 1s - loss: 7.1287e-07\n",
      "Epoch 50/100\n",
      " - 1s - loss: 3.6041e-07\n",
      "Epoch 51/100\n",
      " - 1s - loss: 1.1025e-06\n",
      "Epoch 52/100\n",
      " - 1s - loss: 3.6712e-07\n",
      "Epoch 53/100\n",
      " - 1s - loss: 1.1349e-06\n",
      "Epoch 54/100\n",
      " - 1s - loss: 2.5233e-07\n",
      "Epoch 55/100\n",
      " - 1s - loss: 1.3185e-06\n",
      "Epoch 56/100\n",
      " - 1s - loss: 2.8723e-07\n",
      "Epoch 57/100\n",
      " - 1s - loss: 5.3809e-07\n",
      "Epoch 58/100\n",
      " - 1s - loss: 4.0805e-07\n",
      "Epoch 59/100\n",
      " - 1s - loss: 6.9441e-07\n",
      "Epoch 60/100\n",
      " - 1s - loss: 7.8709e-07\n",
      "Epoch 61/100\n",
      " - 1s - loss: 3.3446e-07\n",
      "Epoch 62/100\n",
      " - 1s - loss: 1.2060e-06\n",
      "Epoch 63/100\n",
      " - 1s - loss: 6.1657e-07\n",
      "Epoch 64/100\n",
      " - 1s - loss: 1.4760e-06\n",
      "Epoch 65/100\n",
      " - 1s - loss: 2.6501e-07\n",
      "Epoch 66/100\n",
      " - 1s - loss: 3.4857e-07\n",
      "Epoch 67/100\n",
      " - 1s - loss: 1.2440e-06\n",
      "Epoch 68/100\n",
      " - 1s - loss: 2.0223e-07\n",
      "Epoch 69/100\n",
      " - 1s - loss: 6.2504e-07\n",
      "Epoch 70/100\n",
      " - 1s - loss: 1.3755e-06\n",
      "Epoch 71/100\n",
      " - 1s - loss: 5.8955e-07\n",
      "Epoch 72/100\n",
      " - 1s - loss: 2.1034e-07\n",
      "Epoch 73/100\n",
      " - 1s - loss: 7.6528e-07\n",
      "Epoch 74/100\n",
      " - 1s - loss: 7.4636e-07\n",
      "Epoch 75/100\n",
      " - 1s - loss: 4.6035e-07\n",
      "Epoch 76/100\n",
      " - 1s - loss: 9.3195e-07\n",
      "Epoch 77/100\n",
      " - 1s - loss: 7.2694e-07\n",
      "Epoch 78/100\n",
      " - 1s - loss: 4.4852e-07\n",
      "Epoch 79/100\n",
      " - 1s - loss: 7.7062e-07\n",
      "Epoch 80/100\n",
      " - 1s - loss: 1.1819e-06\n",
      "Epoch 81/100\n",
      " - 1s - loss: 5.2011e-07\n",
      "Epoch 82/100\n",
      " - 1s - loss: 4.0312e-07\n",
      "Epoch 83/100\n",
      " - 1s - loss: 5.5792e-07\n",
      "Epoch 84/100\n",
      " - 1s - loss: 3.7280e-07\n",
      "Epoch 85/100\n",
      " - 1s - loss: 1.0608e-06\n",
      "Epoch 86/100\n",
      " - 1s - loss: 7.8055e-07\n",
      "Epoch 87/100\n",
      " - 1s - loss: 3.1943e-07\n",
      "Epoch 88/100\n",
      " - 1s - loss: 9.4693e-07\n",
      "Epoch 89/100\n",
      " - 1s - loss: 2.0813e-07\n",
      "Epoch 90/100\n",
      " - 1s - loss: 6.4732e-07\n",
      "Epoch 91/100\n",
      " - 1s - loss: 1.0518e-06\n",
      "Epoch 92/100\n",
      " - 1s - loss: 8.5915e-07\n",
      "Epoch 93/100\n",
      " - 1s - loss: 5.4820e-07\n",
      "Epoch 94/100\n",
      " - 1s - loss: 5.2339e-07\n",
      "Epoch 95/100\n",
      " - 1s - loss: 4.3980e-07\n",
      "Epoch 96/100\n",
      " - 1s - loss: 2.2607e-06\n",
      "Epoch 97/100\n",
      " - 1s - loss: 2.4675e-07\n",
      "Epoch 98/100\n",
      " - 1s - loss: 3.7183e-07\n",
      "Epoch 99/100\n",
      " - 1s - loss: 5.4065e-07\n",
      "Epoch 100/100\n",
      " - 1s - loss: 1.1318e-06\n"
     ]
    },
    {
     "data": {
      "text/plain": [
       "<keras.callbacks.History at 0x2a3da48d9b0>"
      ]
     },
     "execution_count": 29,
     "metadata": {},
     "output_type": "execute_result"
    }
   ],
   "source": [
    "# create and fit the LSTM network\n",
    "model = Sequential()\n",
    "model.add(LSTM(4, input_shape=(1, look_back)))\n",
    "model.add(Dense(1))\n",
    "model.compile(loss='mean_squared_error', optimizer='adam')\n",
    "model.fit(trainX, trainY, epochs=100, batch_size=1, verbose=2)"
   ]
  },
  {
   "cell_type": "code",
   "execution_count": 30,
   "metadata": {},
   "outputs": [
    {
     "name": "stdout",
     "output_type": "stream",
     "text": [
      "Train Score: 1470.46 RMSE\n",
      "Test Score: 41657.38 RMSE\n"
     ]
    }
   ],
   "source": [
    "# make predictions\n",
    "trainPredict = model.predict(trainX)\n",
    "testPredict = model.predict(testX)\n",
    "# invert predictions\n",
    "trainPredict = scaler.inverse_transform(trainPredict)\n",
    "trainY = scaler.inverse_transform([trainY])\n",
    "testPredict = scaler.inverse_transform(testPredict)\n",
    "testY = scaler.inverse_transform([testY])\n",
    "# calculate root mean squared error\n",
    "trainScore = math.sqrt(mean_squared_error(trainY[0], trainPredict[:,0]))\n",
    "print('Train Score: %.2f RMSE' % (trainScore))\n",
    "testScore = math.sqrt(mean_squared_error(testY[0], testPredict[:,0]))\n",
    "print('Test Score: %.2f RMSE' % (testScore))"
   ]
  },
  {
   "cell_type": "code",
   "execution_count": 31,
   "metadata": {},
   "outputs": [
    {
     "data": {
      "image/png": "[encoded data removed]",
      "text/plain": [
       "<matplotlib.figure.Figure at 0x2a3daf36b38>"
      ]
     },
     "metadata": {},
     "output_type": "display_data"
    }
   ],
   "source": [
    "# shift train predictions for plotting\n",
    "trainPredictPlot = np.empty_like(dataset_normalized)\n",
    "trainPredictPlot[:, :] = np.nan\n",
    "trainPredictPlot[look_back:len(trainPredict)+look_back, :] = trainPredict\n",
    "# shift test predictions for plotting\n",
    "testPredictPlot = np.empty_like(dataset_normalized)\n",
    "testPredictPlot[:, :] = np.nan\n",
    "testPredictPlot[len(trainPredict)+(look_back*2)+1:len(dataset)-1, :] = testPredict\n",
    "# plot baseline and predictions\n",
    "plt.plot(scaler.inverse_transform(dataset_normalized))\n",
    "plt.plot(trainPredictPlot)\n",
    "plt.plot(testPredictPlot)\n",
    "plt.show()"
   ]
  }
 ],
 "metadata": {
  "kernelspec": {
   "display_name": "Python 3",
   "language": "python",
   "name": "python3"
  },
  "language_info": {
   "codemirror_mode": {
    "name": "ipython",
    "version": 3
   },
   "file_extension": ".py",
   "mimetype": "text/x-python",
   "name": "python",
   "nbconvert_exporter": "python",
   "pygments_lexer": "ipython3",
   "version": "3.6.2"
  }
 },
 "nbformat": 4,
 "nbformat_minor": 2
}
